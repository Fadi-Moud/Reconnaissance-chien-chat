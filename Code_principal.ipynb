{
 "cells": [
  {
   "cell_type": "code",
   "execution_count": 26,
   "id": "971bea4e",
   "metadata": {},
   "outputs": [],
   "source": [
    "import numpy as np\n",
    "import matplotlib.pyplot as plt\n",
    "from sklearn.datasets import make_blobs\n",
    "from sklearn.metrics import accuracy_score"
   ]
  },
  {
   "cell_type": "code",
   "execution_count": 2,
   "id": "11e2591b",
   "metadata": {},
   "outputs": [
    {
     "data": {
      "text/plain": [
       "<matplotlib.collections.PathCollection at 0x1eca07f99a0>"
      ]
     },
     "execution_count": 2,
     "metadata": {},
     "output_type": "execute_result"
    },
    {
     "data": {
      "image/png": "[encoded data removed]",
      "text/plain": [
       "<Figure size 432x288 with 1 Axes>"
      ]
     },
     "metadata": {
      "needs_background": "light"
     },
     "output_type": "display_data"
    }
   ],
   "source": [
    "x,y=make_blobs(n_samples=100, n_features=2, centers=2, random_state=0)\n",
    "y=y.reshape((y.shape[0],1))\n",
    "plt.scatter(x[:,0],x[:,1], c=y, cmap='summer')"
   ]
  },
  {
   "cell_type": "code",
   "execution_count": 3,
   "id": "be55222a",
   "metadata": {},
   "outputs": [],
   "source": [
    "def initialisation(x):\n",
    "    w=np.random.randn(x.shape[1],1)\n",
    "    b=np.random.randn(1)\n",
    "    return(w,b)"
   ]
  },
  {
   "cell_type": "code",
   "execution_count": 4,
   "id": "7758f49b",
   "metadata": {},
   "outputs": [
    {
     "data": {
      "text/plain": [
       "(2, 1)"
      ]
     },
     "execution_count": 4,
     "metadata": {},
     "output_type": "execute_result"
    }
   ],
   "source": [
    "w,b=initialisation(x)\n",
    "w.shape\n"
   ]
  },
  {
   "cell_type": "code",
   "execution_count": 5,
   "id": "2ab37fe5",
   "metadata": {},
   "outputs": [],
   "source": [
    "def model(x,w,b):\n",
    "    z=x.dot(w)+b\n",
    "    a=1/(1+np.exp(-z))\n",
    "    return a"
   ]
  },
  {
   "cell_type": "code",
   "execution_count": 6,
   "id": "22d51424",
   "metadata": {},
   "outputs": [
    {
     "data": {
      "text/plain": [
       "(100, 1)"
      ]
     },
     "execution_count": 6,
     "metadata": {},
     "output_type": "execute_result"
    }
   ],
   "source": [
    "a=model(x,w,b)\n",
    "a.shape"
   ]
  },
  {
   "cell_type": "code",
   "execution_count": 7,
   "id": "52647cfb",
   "metadata": {},
   "outputs": [],
   "source": [
    "def log_loss(a,y):\n",
    "    return 1/len(y)*np.sum(-y*np.log(a)-(1-y)*np.log(1-a))"
   ]
  },
  {
   "cell_type": "code",
   "execution_count": 8,
   "id": "6ff7db3d",
   "metadata": {},
   "outputs": [
    {
     "data": {
      "text/plain": [
       "2.129843680409779"
      ]
     },
     "execution_count": 8,
     "metadata": {},
     "output_type": "execute_result"
    }
   ],
   "source": [
    "log_loss(a,y)"
   ]
  },
  {
   "cell_type": "code",
   "execution_count": 9,
   "id": "05f6ee56",
   "metadata": {},
   "outputs": [],
   "source": [
    "def gradients(a,x,y):\n",
    "    dw=1/len(y)*np.dot(x.T,a-y)\n",
    "    db=1/len(y)*np.sum(a-y)\n",
    "    return(dw,db)"
   ]
  },
  {
   "cell_type": "code",
   "execution_count": 10,
   "id": "ec5416b1",
   "metadata": {},
   "outputs": [
    {
     "data": {
      "text/plain": [
       "-0.48492900567379965"
      ]
     },
     "execution_count": 10,
     "metadata": {},
     "output_type": "execute_result"
    }
   ],
   "source": [
    "dw,db=gradients(a,x,y)\n",
    "db"
   ]
  },
  {
   "cell_type": "code",
   "execution_count": 11,
   "id": "ec2729be",
   "metadata": {},
   "outputs": [],
   "source": [
    "def update(dw,db,w,b,learning_rate):\n",
    "    w=w-learning_rate*dw\n",
    "    b=b-learning_rate*db\n",
    "    return(w,b)"
   ]
  },
  {
   "cell_type": "code",
   "execution_count": 12,
   "id": "2dc5a3c6",
   "metadata": {},
   "outputs": [
    {
     "data": {
      "text/plain": [
       "(2, 1)"
      ]
     },
     "execution_count": 12,
     "metadata": {},
     "output_type": "execute_result"
    }
   ],
   "source": [
    "learning_rate=0.1\n",
    "w,b=update(dw,db,w,b,learning_rate)\n",
    "w.shape"
   ]
  },
  {
   "cell_type": "code",
   "execution_count": 39,
   "id": "419c3c8c",
   "metadata": {},
   "outputs": [],
   "source": [
    "def predict(x,w,b):\n",
    "    a=model(x,w,b)\n",
    "    print(a)\n",
    "    return a>=0.5"
   ]
  },
  {
   "cell_type": "code",
   "execution_count": 48,
   "id": "285c12fc",
   "metadata": {},
   "outputs": [],
   "source": [
    "def neurones(x,y,learning_rate=0.1,n_iter=100):\n",
    "    #intialisation de w et b\n",
    "    w,b=initialisation(x)\n",
    "    loss=[]\n",
    "    history=[]\n",
    "    for i in range (n_iter):\n",
    "        a=model(x,w,b)\n",
    "        loss.append(log_loss(a,y))\n",
    "        dw,db=gradients(a,x,y)\n",
    "        w,b=update(dw,db,w,b,learning_rate)\n",
    "        history.append([w,b,loss,i])\n",
    "        \n",
    "    y_pred=predict(x,w,b)\n",
    "    print(accuracy_score(y,y_pred))\n",
    "    \n",
    "    plt.plot(loss)\n",
    "    plt.show()\n",
    "    \n",
    "    return history\n",
    "        "
   ]
  },
  {
   "cell_type": "code",
   "execution_count": 49,
   "id": "253c1197",
   "metadata": {},
   "outputs": [
    {
     "name": "stdout",
     "output_type": "stream",
     "text": [
      "[[9.90912710e-01]\n",
      " [7.12681249e-01]\n",
      " [1.89505715e-03]\n",
      " [7.05823732e-02]\n",
      " [9.84136246e-01]\n",
      " [3.27372237e-01]\n",
      " [5.00494361e-02]\n",
      " [9.83936889e-01]\n",
      " [2.74412335e-02]\n",
      " [8.56271703e-01]\n",
      " [1.78552142e-02]\n",
      " [8.84936583e-01]\n",
      " [1.88863458e-02]\n",
      " [7.66725826e-03]\n",
      " [7.43032358e-01]\n",
      " [9.95961429e-01]\n",
      " [9.96197502e-01]\n",
      " [1.79938641e-02]\n",
      " [6.55271860e-01]\n",
      " [6.18176739e-01]\n",
      " [3.29270610e-02]\n",
      " [2.11788106e-02]\n",
      " [3.59568277e-01]\n",
      " [1.92475221e-03]\n",
      " [9.71098248e-01]\n",
      " [2.05491437e-02]\n",
      " [8.84742203e-01]\n",
      " [5.54139841e-03]\n",
      " [5.57747012e-02]\n",
      " [8.12248489e-01]\n",
      " [9.86443241e-01]\n",
      " [3.07780709e-02]\n",
      " [6.08390471e-01]\n",
      " [9.86799329e-01]\n",
      " [4.04229232e-01]\n",
      " [2.72076384e-01]\n",
      " [7.70262510e-01]\n",
      " [5.98629902e-01]\n",
      " [5.28944328e-01]\n",
      " [3.40720168e-01]\n",
      " [2.99436123e-02]\n",
      " [1.00094804e-01]\n",
      " [2.35510667e-04]\n",
      " [1.45159806e-01]\n",
      " [1.45075381e-01]\n",
      " [8.81004826e-01]\n",
      " [9.74456251e-01]\n",
      " [9.65248083e-01]\n",
      " [1.39516343e-03]\n",
      " [5.04551215e-03]\n",
      " [9.51655084e-01]\n",
      " [4.68862818e-01]\n",
      " [6.03182615e-02]\n",
      " [3.24838766e-02]\n",
      " [9.10663314e-01]\n",
      " [3.06186535e-02]\n",
      " [8.22357717e-01]\n",
      " [8.32800164e-01]\n",
      " [9.74958173e-01]\n",
      " [9.94913027e-01]\n",
      " [6.37069183e-01]\n",
      " [1.95785997e-01]\n",
      " [1.91278959e-03]\n",
      " [9.58192421e-01]\n",
      " [1.00428589e-02]\n",
      " [3.57562787e-01]\n",
      " [1.62855217e-02]\n",
      " [7.49319937e-01]\n",
      " [9.73391745e-01]\n",
      " [2.87574373e-01]\n",
      " [1.49237798e-01]\n",
      " [9.25917961e-01]\n",
      " [9.90577131e-01]\n",
      " [1.08411062e-01]\n",
      " [6.12219231e-02]\n",
      " [1.92687460e-02]\n",
      " [4.66348891e-01]\n",
      " [9.21344986e-01]\n",
      " [2.58336317e-02]\n",
      " [2.28983925e-02]\n",
      " [2.32360791e-01]\n",
      " [7.74798062e-02]\n",
      " [1.48644835e-03]\n",
      " [1.14709870e-01]\n",
      " [5.68151906e-02]\n",
      " [5.41286215e-03]\n",
      " [9.85689971e-01]\n",
      " [8.12341130e-02]\n",
      " [7.98291011e-01]\n",
      " [9.74613024e-01]\n",
      " [9.45003928e-01]\n",
      " [9.90289203e-01]\n",
      " [3.99812343e-01]\n",
      " [9.16074774e-01]\n",
      " [3.99225430e-01]\n",
      " [2.27755944e-04]\n",
      " [9.77268172e-01]\n",
      " [9.81430469e-01]\n",
      " [3.02793049e-03]\n",
      " [3.43650836e-01]]\n",
      "0.86\n"
     ]
    },
    {
     "data": {
      "image/png": "[encoded data removed]",
      "text/plain": [
       "<Figure size 432x288 with 1 Axes>"
      ]
     },
     "metadata": {
      "needs_background": "light"
     },
     "output_type": "display_data"
    },
    {
     "ename": "ValueError",
     "evalue": "too many values to unpack (expected 2)",
     "output_type": "error",
     "traceback": [
      "\u001b[1;31m---------------------------------------------------------------------------\u001b[0m",
      "\u001b[1;31mValueError\u001b[0m                                Traceback (most recent call last)",
      "\u001b[1;32m<ipython-input-49-92ff7a529253>\u001b[0m in \u001b[0;36m<module>\u001b[1;34m\u001b[0m\n\u001b[1;32m----> 1\u001b[1;33m \u001b[0mw\u001b[0m\u001b[1;33m,\u001b[0m\u001b[0mb\u001b[0m\u001b[1;33m=\u001b[0m\u001b[0mneurones\u001b[0m\u001b[1;33m(\u001b[0m\u001b[0mx\u001b[0m\u001b[1;33m,\u001b[0m\u001b[0my\u001b[0m\u001b[1;33m)\u001b[0m\u001b[1;33m\u001b[0m\u001b[1;33m\u001b[0m\u001b[0m\n\u001b[0m",
      "\u001b[1;31mValueError\u001b[0m: too many values to unpack (expected 2)"
     ]
    }
   ],
   "source": [
    "w,b=neurones(x,y)"
   ]
  },
  {
   "cell_type": "code",
   "execution_count": 50,
   "id": "5e178037",
   "metadata": {},
   "outputs": [
    {
     "name": "stdout",
     "output_type": "stream",
     "text": [
      "[0.26051801]\n"
     ]
    },
    {
     "data": {
      "text/plain": [
       "array([False])"
      ]
     },
     "execution_count": 50,
     "metadata": {},
     "output_type": "execute_result"
    },
    {
     "data": {
      "image/png": "[encoded data removed]",
      "text/plain": [
       "<Figure size 432x288 with 1 Axes>"
      ]
     },
     "metadata": {
      "needs_background": "light"
     },
     "output_type": "display_data"
    }
   ],
   "source": [
    "new_plant=np.array([4,5])\n",
    "x1=np.linspace(-2,5,100)\n",
    "x2=(-w[0]*x1-b)/w[1]\n",
    "plt.scatter(x[:,0],x[:,1], c=y, cmap='summer')\n",
    "plt.scatter(new_plant[0],new_plant[1], c='b')\n",
    "plt.plot(x1,x2, c='violet')\n",
    "plt.show\n",
    "predict(new_plant,w,b)"
   ]
  },
  {
   "cell_type": "code",
   "execution_count": null,
   "id": "dfc28f16",
   "metadata": {},
   "outputs": [],
   "source": []
  },
  {
   "cell_type": "code",
   "execution_count": null,
   "id": "72ff353e",
   "metadata": {},
   "outputs": [],
   "source": []
  }
 ],
 "metadata": {
  "kernelspec": {
   "display_name": "Python 3",
   "language": "python",
   "name": "python3"
  },
  "language_info": {
   "codemirror_mode": {
    "name": "ipython",
    "version": 3
   },
   "file_extension": ".py",
   "mimetype": "text/x-python",
   "name": "python",
   "nbconvert_exporter": "python",
   "pygments_lexer": "ipython3",
   "version": "3.8.8"
  }
 },
 "nbformat": 4,
 "nbformat_minor": 5
}
